{
 "cells": [
  {
   "cell_type": "markdown",
   "metadata": {},
   "source": [
    "## Straxferno session 5 - storage system"
   ]
  },
  {
   "cell_type": "code",
   "execution_count": 126,
   "metadata": {},
   "outputs": [],
   "source": [
    "import os, os.path\n",
    "import numpy as np\n",
    "import matplotlib\n",
    "import matplotlib.pyplot as plt\n",
    "import pandas as pd\n",
    "\n",
    "import strax\n",
    "import straxen\n",
    "\n",
    "pd.options.display.max_colwidth = 1000\n",
    "st = st_1t = straxen.contexts.xenon1t_dali()\n",
    "st_nt = straxen.contexts.xenonnt_online()"
   ]
  },
  {
   "cell_type": "markdown",
   "metadata": {},
   "source": [
    "### Path 1"
   ]
  },
  {
   "cell_type": "code",
   "execution_count": 105,
   "metadata": {},
   "outputs": [],
   "source": [
    "path = '/dali/lgrandi/xenon1t/strax_converted/processed/181027_0841-event_info-or7hq7ejmy'"
   ]
  },
  {
   "cell_type": "markdown",
   "metadata": {},
   "source": [
    "  * Use fuzzy loading to get any event_info dataset\n",
    "  * Check if is storage directories, else add it\n",
    "  * Check we actually know the plugin\n",
    "  * Check lineage matches our context"
   ]
  },
  {
   "cell_type": "code",
   "execution_count": 106,
   "metadata": {},
   "outputs": [
    {
     "data": {
      "text/plain": [
       "181027_0841-event_info-or7hq7ejmy"
      ]
     },
     "execution_count": 106,
     "metadata": {},
     "output_type": "execute_result"
    }
   ],
   "source": [
    "st.key_for('181027_0841', 'event_info')"
   ]
  },
  {
   "cell_type": "code",
   "execution_count": 107,
   "metadata": {},
   "outputs": [
    {
     "data": {
      "text/plain": [
       "True"
      ]
     },
     "execution_count": 107,
     "metadata": {},
     "output_type": "execute_result"
    }
   ],
   "source": [
    "st.is_stored('181027_0841', 'event_info')"
   ]
  },
  {
   "cell_type": "code",
   "execution_count": 109,
   "metadata": {},
   "outputs": [],
   "source": [
    "st.get_array('181027_0841', 'event_info');"
   ]
  },
  {
   "cell_type": "code",
   "execution_count": 111,
   "metadata": {},
   "outputs": [],
   "source": [
    "st.storage = [strax.DataDirectory('/dali/lgrandi/xenon1t/strax_converted/processed/', readonly=True)]"
   ]
  },
  {
   "cell_type": "code",
   "execution_count": 112,
   "metadata": {},
   "outputs": [
    {
     "data": {
      "text/plain": [
       "True"
      ]
     },
     "execution_count": 112,
     "metadata": {},
     "output_type": "execute_result"
    }
   ],
   "source": [
    "st.is_stored('181027_0841', 'event_info')"
   ]
  },
  {
   "cell_type": "code",
   "execution_count": 116,
   "metadata": {},
   "outputs": [
    {
     "name": "stdout",
     "output_type": "stream",
     "text": [
      "<strax.storage.files.DataDirectory object at 0x7f255a8ae350> does not accept or provide data type event_info\n",
      "\n",
      "Found it: ('FileSytemBackend', '/dali/lgrandi/xenon1t/strax_converted/processed/181027_0841-event_info-or7hq7ejmy')!\n",
      "\n"
     ]
    }
   ],
   "source": [
    "# Just checking we got the right folder:\n",
    "for sf in st.storage:\n",
    "    try:\n",
    "        result = sf.find(st.key_for(run_id, data_type))\n",
    "        print(f\"\\nFound it: {result}!\\n\")\n",
    "        break\n",
    "    except Exception as e:\n",
    "        print(e)\n",
    "        continue\n",
    "else:\n",
    "    print(\"nope :-(\")"
   ]
  },
  {
   "cell_type": "markdown",
   "metadata": {},
   "source": [
    "### Path 2"
   ]
  },
  {
   "cell_type": "code",
   "execution_count": 123,
   "metadata": {},
   "outputs": [],
   "source": [
    "path = '/scratch/midway2/aalbers/straxferno/181027_0841-event_info-or7hq7ejmy'"
   ]
  },
  {
   "cell_type": "code",
   "execution_count": 121,
   "metadata": {},
   "outputs": [],
   "source": [
    "st.storage = [strax.DataDirectory('/scratch/midway2/aalbers/straxferno/')]"
   ]
  },
  {
   "cell_type": "code",
   "execution_count": 122,
   "metadata": {},
   "outputs": [
    {
     "data": {
      "text/plain": [
       "True"
      ]
     },
     "execution_count": 122,
     "metadata": {},
     "output_type": "execute_result"
    }
   ],
   "source": [
    "st.is_stored('181027_0841', 'event_info')"
   ]
  },
  {
   "cell_type": "markdown",
   "metadata": {},
   "source": [
    "### Path 3"
   ]
  },
  {
   "cell_type": "code",
   "execution_count": 125,
   "metadata": {},
   "outputs": [],
   "source": [
    "path = '/home/aalbers/projects/xnt_pulse_proc/strax_data/007219-external_triggers-ltd2lr56s2'"
   ]
  },
  {
   "cell_type": "code",
   "execution_count": 130,
   "metadata": {},
   "outputs": [
    {
     "data": {
      "text/plain": [
       "False"
      ]
     },
     "execution_count": 130,
     "metadata": {},
     "output_type": "execute_result"
    }
   ],
   "source": [
    "'external_triggers' in st_nt._plugin_class_registry"
   ]
  },
  {
   "cell_type": "code",
   "execution_count": 132,
   "metadata": {},
   "outputs": [
    {
     "data": {
      "text/plain": [
       "['external_triggers-ltd2lr56s2-metadata.json',\n",
       " 'external_triggers-ltd2lr56s2-000000']"
      ]
     },
     "execution_count": 132,
     "metadata": {},
     "output_type": "execute_result"
    }
   ],
   "source": [
    "os.listdir('/home/aalbers/projects/xnt_pulse_proc/strax_data/007219-external_triggers-ltd2lr56s2')"
   ]
  },
  {
   "cell_type": "code",
   "execution_count": 140,
   "metadata": {},
   "outputs": [
    {
     "name": "stdout",
     "output_type": "stream",
     "text": [
      "{\n",
      "    \"chunks\": [\n",
      "        {\n",
      "            \"chunk_i\": 0,\n",
      "            \"end\": 1587131543499999000,\n",
      "            \"filename\": \"external_triggers-ltd2lr56s2-000000\",\n",
      "            \"filesize\": 92717,\n",
      "            \"first_endtime\": 1587131483049406110,\n",
      "            \"first_time\": 1587131483049406100,\n",
      "            \"last_endtime\": 1587131521761947640,\n",
      "            \"last_time\": 1587131521761947630,\n",
      "            \"n\": 6612,\n",
      "            \"nbytes\": 112404,\n",
      "            \"run_id\": \"007219\",\n",
      "            \"start\": 1587131483000000000\n",
      "        }\n",
      "    ],\n",
      "    \"compressor\": \"blosc\",\n",
      "    \"data_kind\": \"raw_records_aqmon\",\n",
      "    \"data_type\": \"external_triggers\",\n",
      "    \"dtype\": \"[(('Start time since unix epoch [ns]', 'time'), '<i8'), (('Exclusive end time since unix epoch [ns]', 'endtime'), '<i8'), (('True if this is a rising edge (falling ADC output)', 'is_rise'), '|b1')]\",\n",
      "    \"end\": 1587131543499999000,\n",
      "    \"lineage\": {\n",
      "        \"external_triggers\": [\n",
      "            \"ExternalTriggers\",\n",
      "            \"0.0.1\",\n",
      "            {\n",
      "                \"ext_trig_baseline_samples\": 1,\n",
      "                \"ext_trig_change_threshold\": 1000\n",
      "            }\n",
      "        ],\n",
      "        \"raw_records_mv\": [\n",
      "            \"DAQReader\",\n",
      "            \"0.0.0\",\n",
      "            {}\n",
      "        ]\n",
      "    },\n",
      "    \"lineage_hash\": \"ltd2lr56s2\",\n",
      "    \"run_id\": \"007219\",\n",
      "    \"start\": 1587131483000000000,\n",
      "    \"strax_version\": \"0.10.3\",\n",
      "    \"writing_ended\": 1587131832.119445,\n",
      "    \"writing_started\": 1587131831.1493027\n",
      "}"
     ]
    }
   ],
   "source": [
    "!cat /home/aalbers/projects/xnt_pulse_proc/strax_data/007219-external_triggers-ltd2lr56s2/external_triggers-ltd2lr56s2-metadata.json"
   ]
  },
  {
   "cell_type": "code",
   "execution_count": 137,
   "metadata": {},
   "outputs": [],
   "source": [
    "dtype = np.dtype([(('Start time since unix epoch [ns]', 'time'), '<i8'), (('Exclusive end time since unix epoch [ns]', 'endtime'), '<i8'), (('True if this is a rising edge (falling ADC output)', 'is_rise'), '|b1')])"
   ]
  },
  {
   "cell_type": "code",
   "execution_count": 139,
   "metadata": {},
   "outputs": [
    {
     "data": {
      "text/plain": [
       "array([(1587131483049406100, 1587131483049406110,  True),\n",
       "       (1587131483049815700, 1587131483049815710, False),\n",
       "       (1587131483049816240, 1587131483049816250,  True), ...,\n",
       "       (1587131521761537500, 1587131521761537510,  True),\n",
       "       (1587131521761947100, 1587131521761947110, False),\n",
       "       (1587131521761947630, 1587131521761947640,  True)],\n",
       "      dtype=[(('Start time since unix epoch [ns]', 'time'), '<i8'), (('Exclusive end time since unix epoch [ns]', 'endtime'), '<i8'), (('True if this is a rising edge (falling ADC output)', 'is_rise'), '?')])"
      ]
     },
     "execution_count": 139,
     "metadata": {},
     "output_type": "execute_result"
    }
   ],
   "source": [
    "strax.load_file('/home/aalbers/projects/xnt_pulse_proc/strax_data/007219-external_triggers-ltd2lr56s2/external_triggers-ltd2lr56s2-000000',\n",
    "                compressor='blosc',\n",
    "                dtype=dtype)"
   ]
  },
  {
   "cell_type": "code",
   "execution_count": 151,
   "metadata": {},
   "outputs": [
    {
     "data": {
      "text/plain": [
       "__main__.ExternalTriggers"
      ]
     },
     "execution_count": 151,
     "metadata": {},
     "output_type": "execute_result"
    }
   ],
   "source": [
    "class ExternalTriggers(strax.Plugin):\n",
    "    depends_on = 'raw_records'\n",
    "    dtype = dtype\n",
    "    pass\n",
    "    \n",
    "st_nt.register(ExternalTriggers)"
   ]
  },
  {
   "cell_type": "code",
   "execution_count": 152,
   "metadata": {},
   "outputs": [],
   "source": [
    "st_nt.storage = [strax.DataDirectory('/home/aalbers/projects/xnt_pulse_proc/strax_data')]"
   ]
  },
  {
   "cell_type": "code",
   "execution_count": null,
   "metadata": {},
   "outputs": [],
   "source": [
    "external_triggers"
   ]
  },
  {
   "cell_type": "code",
   "execution_count": 161,
   "metadata": {},
   "outputs": [],
   "source": [
    "st_nt.context_config['fuzzy_for'] = ('external_triggers',)"
   ]
  },
  {
   "cell_type": "code",
   "execution_count": 159,
   "metadata": {},
   "outputs": [],
   "source": [
    "#st_nt.config"
   ]
  },
  {
   "cell_type": "code",
   "execution_count": 156,
   "metadata": {},
   "outputs": [
    {
     "data": {
      "text/html": [
       "<div>\n",
       "<style scoped>\n",
       "    .dataframe tbody tr th:only-of-type {\n",
       "        vertical-align: middle;\n",
       "    }\n",
       "\n",
       "    .dataframe tbody tr th {\n",
       "        vertical-align: top;\n",
       "    }\n",
       "\n",
       "    .dataframe thead th {\n",
       "        text-align: right;\n",
       "    }\n",
       "</style>\n",
       "<table border=\"1\" class=\"dataframe\">\n",
       "  <thead>\n",
       "    <tr style=\"text-align: right;\">\n",
       "      <th></th>\n",
       "      <th>option</th>\n",
       "      <th>default</th>\n",
       "      <th>current</th>\n",
       "      <th>applies_to</th>\n",
       "      <th>help</th>\n",
       "    </tr>\n",
       "  </thead>\n",
       "  <tbody>\n",
       "    <tr>\n",
       "      <th>0</th>\n",
       "      <td>storage_converter</td>\n",
       "      <td>False</td>\n",
       "      <td>False</td>\n",
       "      <td>Context</td>\n",
       "      <td>If True, save data that is loaded from one frontend through all willing other storage frontends.</td>\n",
       "    </tr>\n",
       "    <tr>\n",
       "      <th>1</th>\n",
       "      <td>fuzzy_for</td>\n",
       "      <td>()</td>\n",
       "      <td>()</td>\n",
       "      <td>Context</td>\n",
       "      <td>Tuple of plugin names for which no checks for version, providing plugin, and config will be performed when looking for data.</td>\n",
       "    </tr>\n",
       "    <tr>\n",
       "      <th>2</th>\n",
       "      <td>fuzzy_for_options</td>\n",
       "      <td>()</td>\n",
       "      <td>()</td>\n",
       "      <td>Context</td>\n",
       "      <td>Tuple of config options for which no checks will be performed when looking for data.</td>\n",
       "    </tr>\n",
       "    <tr>\n",
       "      <th>3</th>\n",
       "      <td>allow_incomplete</td>\n",
       "      <td>False</td>\n",
       "      <td>False</td>\n",
       "      <td>Context</td>\n",
       "      <td>Allow loading of incompletely written data, if the storage systems support it</td>\n",
       "    </tr>\n",
       "    <tr>\n",
       "      <th>4</th>\n",
       "      <td>allow_rechunk</td>\n",
       "      <td>True</td>\n",
       "      <td>True</td>\n",
       "      <td>Context</td>\n",
       "      <td>Allow rechunking of data during writing.</td>\n",
       "    </tr>\n",
       "    <tr>\n",
       "      <th>5</th>\n",
       "      <td>allow_multiprocess</td>\n",
       "      <td>False</td>\n",
       "      <td>False</td>\n",
       "      <td>Context</td>\n",
       "      <td>Allow multiprocessing.If False, will use multithreading only.</td>\n",
       "    </tr>\n",
       "    <tr>\n",
       "      <th>6</th>\n",
       "      <td>allow_shm</td>\n",
       "      <td>False</td>\n",
       "      <td>False</td>\n",
       "      <td>Context</td>\n",
       "      <td>Allow use of /dev/shm for interprocess communication.</td>\n",
       "    </tr>\n",
       "    <tr>\n",
       "      <th>7</th>\n",
       "      <td>allow_lazy</td>\n",
       "      <td>True</td>\n",
       "      <td>True</td>\n",
       "      <td>Context</td>\n",
       "      <td>Allow \"lazy\" processing. Saves memory, but incompatible with multiprocessing and perhaps slightly slower.</td>\n",
       "    </tr>\n",
       "    <tr>\n",
       "      <th>8</th>\n",
       "      <td>forbid_creation_of</td>\n",
       "      <td>()</td>\n",
       "      <td>raw_records</td>\n",
       "      <td>Context</td>\n",
       "      <td>If any of the following datatypes is requested to be created, throw an error instead. Useful to limit descending too far into the dependency graph.</td>\n",
       "    </tr>\n",
       "    <tr>\n",
       "      <th>9</th>\n",
       "      <td>store_run_fields</td>\n",
       "      <td>()</td>\n",
       "      <td>(name, number, tags.name, start, end, livetime, mode)</td>\n",
       "      <td>Context</td>\n",
       "      <td>Tuple of run document fields to store during scan_run.</td>\n",
       "    </tr>\n",
       "    <tr>\n",
       "      <th>10</th>\n",
       "      <td>check_available</td>\n",
       "      <td>()</td>\n",
       "      <td>(raw_records, peak_basics)</td>\n",
       "      <td>Context</td>\n",
       "      <td>Tuple of data types to scan availability for during scan_run.</td>\n",
       "    </tr>\n",
       "    <tr>\n",
       "      <th>11</th>\n",
       "      <td>max_messages</td>\n",
       "      <td>4</td>\n",
       "      <td>4</td>\n",
       "      <td>Context</td>\n",
       "      <td>Maximum number of mailbox messages, i.e. size of buffer between plugins. Too high = RAM blows up. Too low = likely deadlocks.</td>\n",
       "    </tr>\n",
       "    <tr>\n",
       "      <th>12</th>\n",
       "      <td>timeout</td>\n",
       "      <td>86400</td>\n",
       "      <td>86400</td>\n",
       "      <td>Context</td>\n",
       "      <td>Terminate processing if any one mailbox receives no result for more than this many seconds</td>\n",
       "    </tr>\n",
       "    <tr>\n",
       "      <th>13</th>\n",
       "      <td>use_per_run_defaults</td>\n",
       "      <td>False</td>\n",
       "      <td>False</td>\n",
       "      <td>Context</td>\n",
       "      <td>Scan the run db for per-run defaults. This is an experimental strax feature that will possibly be removed, see issue #246</td>\n",
       "    </tr>\n",
       "    <tr>\n",
       "      <th>14</th>\n",
       "      <td>free_options</td>\n",
       "      <td>()</td>\n",
       "      <td>()</td>\n",
       "      <td>Context</td>\n",
       "      <td>Do not warn if any of these options are passed, even when no registered plugin takes them.</td>\n",
       "    </tr>\n",
       "  </tbody>\n",
       "</table>\n",
       "</div>"
      ],
      "text/plain": [
       "                  option default  \\\n",
       "0      storage_converter   False   \n",
       "1              fuzzy_for      ()   \n",
       "2      fuzzy_for_options      ()   \n",
       "3       allow_incomplete   False   \n",
       "4          allow_rechunk    True   \n",
       "5     allow_multiprocess   False   \n",
       "6              allow_shm   False   \n",
       "7             allow_lazy    True   \n",
       "8     forbid_creation_of      ()   \n",
       "9       store_run_fields      ()   \n",
       "10       check_available      ()   \n",
       "11          max_messages       4   \n",
       "12               timeout   86400   \n",
       "13  use_per_run_defaults   False   \n",
       "14          free_options      ()   \n",
       "\n",
       "                                                  current applies_to  \\\n",
       "0                                                   False    Context   \n",
       "1                                                      ()    Context   \n",
       "2                                                      ()    Context   \n",
       "3                                                   False    Context   \n",
       "4                                                    True    Context   \n",
       "5                                                   False    Context   \n",
       "6                                                   False    Context   \n",
       "7                                                    True    Context   \n",
       "8                                             raw_records    Context   \n",
       "9   (name, number, tags.name, start, end, livetime, mode)    Context   \n",
       "10                             (raw_records, peak_basics)    Context   \n",
       "11                                                      4    Context   \n",
       "12                                                  86400    Context   \n",
       "13                                                  False    Context   \n",
       "14                                                     ()    Context   \n",
       "\n",
       "                                                                                                                                                   help  \n",
       "0                                                      If True, save data that is loaded from one frontend through all willing other storage frontends.  \n",
       "1                          Tuple of plugin names for which no checks for version, providing plugin, and config will be performed when looking for data.  \n",
       "2                                                                  Tuple of config options for which no checks will be performed when looking for data.  \n",
       "3                                                                         Allow loading of incompletely written data, if the storage systems support it  \n",
       "4                                                                                                              Allow rechunking of data during writing.  \n",
       "5                                                                                         Allow multiprocessing.If False, will use multithreading only.  \n",
       "6                                                                                                 Allow use of /dev/shm for interprocess communication.  \n",
       "7                                             Allow \"lazy\" processing. Saves memory, but incompatible with multiprocessing and perhaps slightly slower.  \n",
       "8   If any of the following datatypes is requested to be created, throw an error instead. Useful to limit descending too far into the dependency graph.  \n",
       "9                                                                                                Tuple of run document fields to store during scan_run.  \n",
       "10                                                                                        Tuple of data types to scan availability for during scan_run.  \n",
       "11                        Maximum number of mailbox messages, i.e. size of buffer between plugins. Too high = RAM blows up. Too low = likely deadlocks.  \n",
       "12                                                           Terminate processing if any one mailbox receives no result for more than this many seconds  \n",
       "13                            Scan the run db for per-run defaults. This is an experimental strax feature that will possibly be removed, see issue #246  \n",
       "14                                                           Do not warn if any of these options are passed, even when no registered plugin takes them.  "
      ]
     },
     "execution_count": 156,
     "metadata": {},
     "output_type": "execute_result"
    }
   ],
   "source": [
    "st_nt.show_config()"
   ]
  },
  {
   "cell_type": "code",
   "execution_count": 163,
   "metadata": {},
   "outputs": [
    {
     "data": {
      "text/plain": [
       "True"
      ]
     },
     "execution_count": 163,
     "metadata": {},
     "output_type": "execute_result"
    }
   ],
   "source": [
    "st_nt.is_stored('007219', 'external_triggers')"
   ]
  },
  {
   "cell_type": "code",
   "execution_count": 164,
   "metadata": {},
   "outputs": [
    {
     "data": {
      "text/plain": [
       "array([(1587131483049406100, 1587131483049406110,  True),\n",
       "       (1587131483049815700, 1587131483049815710, False),\n",
       "       (1587131483049816240, 1587131483049816250,  True), ...,\n",
       "       (1587131521761537500, 1587131521761537510,  True),\n",
       "       (1587131521761947100, 1587131521761947110, False),\n",
       "       (1587131521761947630, 1587131521761947640,  True)],\n",
       "      dtype=[(('Start time since unix epoch [ns]', 'time'), '<i8'), (('Exclusive end time since unix epoch [ns]', 'endtime'), '<i8'), (('True if this is a rising edge (falling ADC output)', 'is_rise'), '?')])"
      ]
     },
     "execution_count": 164,
     "metadata": {},
     "output_type": "execute_result"
    }
   ],
   "source": [
    "st_nt.get_array('007219', 'external_triggers')"
   ]
  },
  {
   "cell_type": "code",
   "execution_count": 173,
   "metadata": {},
   "outputs": [
    {
     "data": {
      "text/plain": [
       "'/home/aalbers/projects/xnt_pulse_proc/strax_data/007219-external_triggers-ltd2lr56s2'"
      ]
     },
     "execution_count": 173,
     "metadata": {},
     "output_type": "execute_result"
    }
   ],
   "source": [
    "path"
   ]
  },
  {
   "cell_type": "code",
   "execution_count": 171,
   "metadata": {},
   "outputs": [
    {
     "data": {
      "text/plain": [
       "[007219.external_triggers: 1587131483sec 0 ns - 1587131543sec 499999000 ns, 6612 items, 0.0 MB/s]"
      ]
     },
     "execution_count": 171,
     "metadata": {},
     "output_type": "execute_result"
    }
   ],
   "source": [
    "loader = strax.FileSytemBackend().loader(path)\n",
    "next(loader)"
   ]
  },
  {
   "cell_type": "code",
   "execution_count": 172,
   "metadata": {},
   "outputs": [],
   "source": [
    "#np.concatenate([x.data for x in strax.FileSytemBackend().loader(path)])\n"
   ]
  },
  {
   "cell_type": "code",
   "execution_count": 168,
   "metadata": {},
   "outputs": [
    {
     "data": {
      "text/plain": [
       "array([(1587131483049406100, 1587131483049406110,  True),\n",
       "       (1587131483049815700, 1587131483049815710, False),\n",
       "       (1587131483049816240, 1587131483049816250,  True), ...,\n",
       "       (1587131521761537500, 1587131521761537510,  True),\n",
       "       (1587131521761947100, 1587131521761947110, False),\n",
       "       (1587131521761947630, 1587131521761947640,  True)],\n",
       "      dtype=[(('Start time since unix epoch [ns]', 'time'), '<i8'), (('Exclusive end time since unix epoch [ns]', 'endtime'), '<i8'), (('True if this is a rising edge (falling ADC output)', 'is_rise'), '?')])"
      ]
     },
     "execution_count": 168,
     "metadata": {},
     "output_type": "execute_result"
    }
   ],
   "source": [
    "x.data"
   ]
  },
  {
   "cell_type": "markdown",
   "metadata": {},
   "source": [
    "### Path 4"
   ]
  },
  {
   "cell_type": "code",
   "execution_count": 175,
   "metadata": {},
   "outputs": [],
   "source": [
    "path = '/home/aalbers/projects/xnt_peak_proc/strax_data/181027_0841-event_info-wnm57jwdgr'"
   ]
  },
  {
   "cell_type": "code",
   "execution_count": 176,
   "metadata": {},
   "outputs": [
    {
     "ename": "DataNotAvailable",
     "evalue": "Cannot load data at /home/aalbers/projects/xnt_peak_proc/strax_data/181027_0841-event_info-wnm57jwdgr: it was created with strax 0.8.7, but you have strax 0.11.0. ",
     "output_type": "error",
     "traceback": [
      "\u001b[0;31m---------------------------------------------------------------------------\u001b[0m",
      "\u001b[0;31mDataNotAvailable\u001b[0m                          Traceback (most recent call last)",
      "\u001b[0;32m<ipython-input-176-35ac4548b870>\u001b[0m in \u001b[0;36m<module>\u001b[0;34m\u001b[0m\n\u001b[1;32m      1\u001b[0m \u001b[0mloader\u001b[0m \u001b[0;34m=\u001b[0m \u001b[0mstrax\u001b[0m\u001b[0;34m.\u001b[0m\u001b[0mFileSytemBackend\u001b[0m\u001b[0;34m(\u001b[0m\u001b[0;34m)\u001b[0m\u001b[0;34m.\u001b[0m\u001b[0mloader\u001b[0m\u001b[0;34m(\u001b[0m\u001b[0mpath\u001b[0m\u001b[0;34m)\u001b[0m\u001b[0;34m\u001b[0m\u001b[0;34m\u001b[0m\u001b[0m\n\u001b[0;32m----> 2\u001b[0;31m \u001b[0mnext\u001b[0m\u001b[0;34m(\u001b[0m\u001b[0mloader\u001b[0m\u001b[0;34m)\u001b[0m\u001b[0;34m\u001b[0m\u001b[0;34m\u001b[0m\u001b[0m\n\u001b[0m",
      "\u001b[0;32m~/software/strax/strax/storage/common.py\u001b[0m in \u001b[0;36mloader\u001b[0;34m(self, backend_key, time_range, chunk_number, executor)\u001b[0m\n\u001b[1;32m    376\u001b[0m             \u001b[0;32mif\u001b[0m \u001b[0mversion\u001b[0m\u001b[0;34m.\u001b[0m\u001b[0mparse\u001b[0m\u001b[0;34m(\u001b[0m\u001b[0mv_old\u001b[0m\u001b[0;34m)\u001b[0m \u001b[0;34m<\u001b[0m \u001b[0mversion\u001b[0m\u001b[0;34m.\u001b[0m\u001b[0mparse\u001b[0m\u001b[0;34m(\u001b[0m\u001b[0;34m'0.9.0'\u001b[0m\u001b[0;34m)\u001b[0m\u001b[0;34m:\u001b[0m\u001b[0;34m\u001b[0m\u001b[0;34m\u001b[0m\u001b[0m\n\u001b[1;32m    377\u001b[0m                 raise strax.DataNotAvailable(\n\u001b[0;32m--> 378\u001b[0;31m                     \u001b[0;34mf\"Cannot load data at {backend_key}: \"\u001b[0m\u001b[0;34m\u001b[0m\u001b[0;34m\u001b[0m\u001b[0m\n\u001b[0m\u001b[1;32m    379\u001b[0m                     \u001b[0;34mf\"it was created with strax {v_old}, \"\u001b[0m\u001b[0;34m\u001b[0m\u001b[0;34m\u001b[0m\u001b[0m\n\u001b[1;32m    380\u001b[0m                     f\"but you have strax {strax.__version__}. \")\n",
      "\u001b[0;31mDataNotAvailable\u001b[0m: Cannot load data at /home/aalbers/projects/xnt_peak_proc/strax_data/181027_0841-event_info-wnm57jwdgr: it was created with strax 0.8.7, but you have strax 0.11.0. "
     ]
    }
   ],
   "source": [
    "loader = strax.FileSytemBackend().loader(path)\n",
    "next(loader)"
   ]
  },
  {
   "cell_type": "code",
   "execution_count": 178,
   "metadata": {},
   "outputs": [],
   "source": [
    "import json\n",
    "with open(f'{path}/event_info-wnm57jwdgr-metadata.json') as f:\n",
    "    metadata = json.loads(f.read())"
   ]
  },
  {
   "cell_type": "code",
   "execution_count": 179,
   "metadata": {},
   "outputs": [],
   "source": [
    "df = strax.load_file(\n",
    "    f'{path}/event_info-wnm57jwdgr-000000',\n",
    "    compressor=metadata['compressor'],\n",
    "    dtype=np.dtype(eval(metadata['dtype'])))"
   ]
  },
  {
   "cell_type": "code",
   "execution_count": 180,
   "metadata": {},
   "outputs": [
    {
     "name": "stderr",
     "output_type": "stream",
     "text": [
      "/home/aalbers/software/strax/strax/context.py:678: UserWarning: Could not estimate run start time from run metadata: assuming it is 0\n",
      "  UserWarning)\n"
     ]
    },
    {
     "data": {
      "image/png": "[encoded data removed]",
      "text/plain": [
       "<Figure size 504x360 with 4 Axes>"
      ]
     },
     "metadata": {
      "needs_background": "light"
     },
     "output_type": "display_data"
    }
   ],
   "source": [
    "st.event_scatter(run_id, events=df)"
   ]
  },
  {
   "cell_type": "code",
   "execution_count": null,
   "metadata": {},
   "outputs": [],
   "source": []
  }
 ],
 "metadata": {
  "kernelspec": {
   "display_name": "Python [conda env:py37] *",
   "language": "python",
   "name": "conda-env-py37-py"
  },
  "language_info": {
   "codemirror_mode": {
    "name": "ipython",
    "version": 3
   },
   "file_extension": ".py",
   "mimetype": "text/x-python",
   "name": "python",
   "nbconvert_exporter": "python",
   "pygments_lexer": "ipython3",
   "version": "3.7.6"
  }
 },
 "nbformat": 4,
 "nbformat_minor": 4
}
